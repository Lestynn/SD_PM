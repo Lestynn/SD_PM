{
 "cells": [
  {
   "cell_type": "markdown",
   "metadata": {},
   "source": [
    "### Divisibles"
   ]
  },
  {
   "cell_type": "code",
   "execution_count": null,
   "metadata": {},
   "outputs": [],
   "source": [
    "my_range = range(1500,2701)\n",
    "\n",
    "my_nums = []\n",
    "\n",
    "for num in my_range:\n",
    "    if (num % 7 == 0 and num % 5 == 0):\n",
    "        my_nums.append(num)\n",
    "    \n",
    "my_nums"
   ]
  },
  {
   "cell_type": "markdown",
   "metadata": {},
   "source": [
    "### Temp Converter"
   ]
  },
  {
   "cell_type": "code",
   "execution_count": 10,
   "metadata": {},
   "outputs": [],
   "source": [
    "# Temp converter\n",
    "\n",
    "def temp_converter(temp_value:float,temp_type:str):\n",
    "    if temp_type == 'C':\n",
    "        f_temp = ((9/5)*temp_value)+32\n",
    "        return print(f'{temp_value} Celsius is {f_temp} Fahrenheit.')\n",
    "    elif temp_type == 'F':\n",
    "        f_temp = (temp_value-32)*(5/9)\n",
    "        return print(f'{temp_value} Fahrenheit is {f_temp} Celsius.')"
   ]
  },
  {
   "cell_type": "code",
   "execution_count": 18,
   "metadata": {},
   "outputs": [
    {
     "name": "stdout",
     "output_type": "stream",
     "text": [
      "0 Fahrenheit is -17.77777777777778 Celsius\n"
     ]
    }
   ],
   "source": [
    "temp_converter(0,'F')"
   ]
  },
  {
   "cell_type": "markdown",
   "metadata": {},
   "source": [
    "### Number Guesser"
   ]
  },
  {
   "cell_type": "code",
   "execution_count": 29,
   "metadata": {},
   "outputs": [
    {
     "name": "stdout",
     "output_type": "stream",
     "text": [
      "Nice one mate, the correct number was indeed 1\n"
     ]
    }
   ],
   "source": [
    "import random\n",
    "target_num = random.randint(1, 9)\n",
    "guess_num = int(input('Pick a number between 1 and 9'))\n",
    "if guess_num != target_num:\n",
    "    print(f'Sorry, the right number was {target_num}, try again.')\n",
    "else:\n",
    "    print(f'Nice one mate, the correct number was indeed {guess_num}')\n",
    "    exit"
   ]
  },
  {
   "cell_type": "markdown",
   "metadata": {},
   "source": [
    "### Arrow with *"
   ]
  },
  {
   "cell_type": "code",
   "execution_count": 49,
   "metadata": {},
   "outputs": [
    {
     "name": "stdout",
     "output_type": "stream",
     "text": [
      " * \n",
      " *  * \n",
      " *  *  * \n",
      " *  *  *  * \n",
      " *  *  *  *  * \n",
      " *  *  *  * \n",
      " *  *  * \n",
      " *  * \n",
      " * \n",
      "\n",
      "\n"
     ]
    }
   ],
   "source": [
    "lines = 9\n",
    "curr_position = 0\n",
    "\n",
    "while curr_position <= 4:\n",
    "    printable = ' * '\n",
    "    curr_position += 1\n",
    "    printable = (printable*curr_position)\n",
    "    print(printable)\n",
    "\n",
    "while curr_position >=0:\n",
    "    printable = ' * '\n",
    "    curr_position -= 1\n",
    "    printable = (printable*curr_position)\n",
    "    print(printable)\n"
   ]
  },
  {
   "cell_type": "markdown",
   "metadata": {},
   "source": [
    "### Word Reverser"
   ]
  },
  {
   "cell_type": "code",
   "execution_count": 88,
   "metadata": {},
   "outputs": [
    {
     "data": {
      "text/plain": [
       "'retsamksat eht si seivad gerg'"
      ]
     },
     "execution_count": 88,
     "metadata": {},
     "output_type": "execute_result"
    }
   ],
   "source": [
    "user_word = str(input('Please give me a word to reverse'))\n",
    "\n",
    "num_chars = len(user_word)\n",
    "reversed_container = []\n",
    "\n",
    "counter = range(1,num_chars+1)\n",
    "\n",
    "for number in counter:\n",
    "    reversed_container.append(user_word[-number])\n",
    "    reversed_word = \"\".join(reversed_container)\n",
    "\n",
    "reversed_word\n",
    "\n"
   ]
  },
  {
   "cell_type": "code",
   "execution_count": 67,
   "metadata": {},
   "outputs": [
    {
     "name": "stdout",
     "output_type": "stream",
     "text": [
      "0\n",
      "1\n",
      "2\n",
      "3\n",
      "4\n"
     ]
    }
   ],
   "source": [
    "for num in counter:\n",
    "    print(num)"
   ]
  },
  {
   "cell_type": "markdown",
   "metadata": {},
   "source": [
    "### Count even and odd numbers"
   ]
  },
  {
   "cell_type": "code",
   "execution_count": 104,
   "metadata": {},
   "outputs": [
    {
     "name": "stdout",
     "output_type": "stream",
     "text": [
      "Number of even numbers:24\n",
      "Number of odd numbers:25\n"
     ]
    }
   ],
   "source": [
    "numbers = range(1,50)\n",
    "\n",
    "odd_numbers = []\n",
    "even_numbers = []\n",
    "\n",
    "for num in numbers:\n",
    "    if num%2 == 0:\n",
    "        even_numbers.append(num)\n",
    "    else:\n",
    "        odd_numbers.append(num)\n",
    "\n",
    "print(f'Number of even numbers:{len(even_numbers)}')\n",
    "print(f'Number of odd numbers:{len(odd_numbers)}')"
   ]
  },
  {
   "cell_type": "markdown",
   "metadata": {},
   "source": [
    "### Median Calculator"
   ]
  },
  {
   "cell_type": "code",
   "execution_count": 123,
   "metadata": {},
   "outputs": [],
   "source": [
    "def average_calc():\n",
    "    # Asking the user to input numbers separated by spaces\n",
    "    user_input = input(\"Please enter a few numbers separated by spaces: \")\n",
    "\n",
    "    # Split the input string into individual elements and convert them to integers\n",
    "    num_list = [int(num) for num in user_input.split()]\n",
    "\n",
    "    # Ensure the list is not empty\n",
    "    if not num_list:\n",
    "        return None\n",
    "\n",
    "    # Calculate the sum and divide by the number of elements\n",
    "    average = sum(num_list) / len(num_list)\n",
    "\n",
    "    return print(f\"The average is: {average}\")\n",
    "\n",
    "\n"
   ]
  },
  {
   "cell_type": "code",
   "execution_count": 124,
   "metadata": {},
   "outputs": [
    {
     "name": "stdout",
     "output_type": "stream",
     "text": [
      "The average is: 38.0\n"
     ]
    }
   ],
   "source": [
    "average_calc()"
   ]
  },
  {
   "cell_type": "code",
   "execution_count": null,
   "metadata": {},
   "outputs": [],
   "source": []
  }
 ],
 "metadata": {
  "kernelspec": {
   "display_name": ".venv",
   "language": "python",
   "name": "python3"
  },
  "language_info": {
   "codemirror_mode": {
    "name": "ipython",
    "version": 3
   },
   "file_extension": ".py",
   "mimetype": "text/x-python",
   "name": "python",
   "nbconvert_exporter": "python",
   "pygments_lexer": "ipython3",
   "version": "3.12.2"
  }
 },
 "nbformat": 4,
 "nbformat_minor": 2
}
